{
 "cells": [
  {
   "cell_type": "markdown",
   "metadata": {},
   "source": [
    "# user interface\n",
    "3.29.22     \n",
    "\n",
    "What should the user interface look like? "
   ]
  },
  {
   "cell_type": "code",
   "execution_count": null,
   "metadata": {},
   "outputs": [],
   "source": [
    "import sys\n",
    "import os\n",
    "import pandas as pd\n",
    "import numpy as np\n",
    "import matplotlib.pyplot as plt\n",
    "import seaborn as sns\n",
    "\n",
    "# plotting templates\n",
    "sns.set(context=\"talk\", style=\"ticks\") \n",
    "pal = sns.color_palette()\n",
    "\n",
    "sys.path.append('../ms-imputer')\n",
    "\n",
    "from modeler import Modeler, Dataset"
   ]
  },
  {
   "cell_type": "markdown",
   "metadata": {},
   "source": [
    "#### Set configs"
   ]
  },
  {
   "cell_type": "code",
   "execution_count": null,
   "metadata": {},
   "outputs": [],
   "source": [
    "data_path = \"~/code/2021_ljharris_ms-impute/data/peptides-data/PXD015939_peptides.csv\"\n",
    "pxd = \"PXD015939\"\n",
    "\n",
    "# training params\n",
    "n_factors = 2\n",
    "tolerance = 0.0001\n",
    "max_epochs = 3000\n",
    "batch_size = 100\n",
    "learning_rate = 0.01"
   ]
  },
  {
   "cell_type": "markdown",
   "metadata": {},
   "source": [
    "#### Set up"
   ]
  },
  {
   "cell_type": "code",
   "execution_count": null,
   "metadata": {},
   "outputs": [],
   "source": [
    "# get peptide quants Dataset object\n",
    "peptides_dataset = Dataset(pxd=pxd, data_pth=data_path)\n",
    "\n",
    "# partition\n",
    "peptides_dataset.partition(val_frac=0.1, test_frac=0.1, min_present=10)"
   ]
  },
  {
   "cell_type": "markdown",
   "metadata": {},
   "source": [
    "#### Fit"
   ]
  },
  {
   "cell_type": "code",
   "execution_count": null,
   "metadata": {},
   "outputs": [],
   "source": [
    "nmf_model = Modeler(\n",
    "                model_type=\"NMF\", \n",
    "                loss_func=\"MSE\",\n",
    "                log_transform=False,\n",
    "                tolerance=tolerance,\n",
    "                max_epochs=max_epochs,\n",
    "                batch_size=batch_size,\n",
    "                learning_rate=learning_rate,\n",
    "                parallelize=\"forests\",\n",
    ")\n",
    "# fit model, get reconstruction\n",
    "nmf_recon = nmf_model.fit(\n",
    "                    peptides_dataset.train, \n",
    "                    peptides_dataset.val, \n",
    "                    n_factors=n_factors, \n",
    "                    pxd=pxd"
   ]
  }
 ],
 "metadata": {
  "kernelspec": {
   "display_name": "Python 3",
   "language": "python",
   "name": "python3"
  },
  "language_info": {
   "codemirror_mode": {
    "name": "ipython",
    "version": 3
   },
   "file_extension": ".py",
   "mimetype": "text/x-python",
   "name": "python",
   "nbconvert_exporter": "python",
   "pygments_lexer": "ipython3",
   "version": "3.7.7"
  }
 },
 "nbformat": 4,
 "nbformat_minor": 5
}
