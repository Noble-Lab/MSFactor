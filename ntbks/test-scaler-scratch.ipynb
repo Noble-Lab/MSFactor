{
 "cells": [
  {
   "cell_type": "markdown",
   "id": "e7cd295e",
   "metadata": {},
   "source": [
    "# test scaler scatch\n",
    "4.1.22"
   ]
  },
  {
   "cell_type": "code",
   "execution_count": 11,
   "id": "a9f17aa8",
   "metadata": {},
   "outputs": [],
   "source": [
    "import unittest\n",
    "import pytest\n",
    "import pandas as pd \n",
    "import numpy as np\n",
    "import torch\n",
    "\n",
    "import sys\n",
    "sys.path.append('../ms_imputer/')\n",
    "\n",
    "from models.linear import GradNMFImputer\n",
    "from models.scalers import StandardScaler\n",
    "import util_functions"
   ]
  },
  {
   "cell_type": "markdown",
   "id": "1b124edf",
   "metadata": {},
   "source": [
    "#### Set configs"
   ]
  },
  {
   "cell_type": "code",
   "execution_count": 12,
   "id": "e03deaec",
   "metadata": {},
   "outputs": [],
   "source": [
    "# simulated matrix configs\n",
    "rng = np.random.default_rng(42) # random seed\n",
    "matrix_shape = (12,10,3) # (n_rows, n_cols, rank)\n",
    "\n",
    "# training params\n",
    "n_factors = 4 \n",
    "tolerance = 0.0001\n",
    "batch_size = 100\n",
    "max_iters = 400\n",
    "learning_rate = 0.05\n",
    "PXD = \"tester\"                             \n",
    "\n",
    "# error assessment params\n",
    "train_err_tol = 1e-8\n",
    "test_err_tol = 1e-1"
   ]
  },
  {
   "cell_type": "markdown",
   "id": "d3124d43",
   "metadata": {},
   "source": [
    "#### Some helper funcs"
   ]
  },
  {
   "cell_type": "code",
   "execution_count": 13,
   "id": "70d09fd6",
   "metadata": {},
   "outputs": [],
   "source": [
    "def simulate_matrix_realistic(matrix_shape):\n",
    "    \"\"\"\n",
    "    Init a simulated matrix of known size and (approximate) rank. \n",
    "    The values of quants_mean and quants_std were derived from a \n",
    "    real peptide quants matrix, and should allow us to generate a \n",
    "    matrix that more accurately simulates a real peptide quants \n",
    "    dataset. Note that taking the abs value of W and H most likely\n",
    "    changes the true rank of the matrix, thus the assert statement\n",
    "    in here won't necessarily pass. \n",
    "\n",
    "    Parameters\n",
    "    ----------\n",
    "    matrix_shape: tuple, (x,y,z) where x=n_rows, y=n_cols\n",
    "                    and z=rank\n",
    "    Returns\n",
    "    -------\n",
    "    X : np.ndarray, the simulated matrix\n",
    "    \"\"\"\n",
    "    quants_mean = 102161962.5\n",
    "    quants_std = 978349975.6\n",
    "\n",
    "    matrix_shape = (12, 10, 3) # (n_rows, n_cols, rank)\n",
    "    W = np.abs(np.random.normal(loc=quants_mean, scale=quants_std, size=(matrix_shape[0], matrix_shape[2])))\n",
    "    H = np.abs(np.random.normal(loc=quants_mean, scale=quants_std, size=(matrix_shape[2], matrix_shape[1])))\n",
    "\n",
    "    X = W @ H\n",
    "\n",
    "    # won't necessarily pass\n",
    "    #assert np.linalg.matrix_rank(X) == matrix_shape[2]\n",
    "\n",
    "    return X"
   ]
  },
  {
   "cell_type": "markdown",
   "id": "9b55b567",
   "metadata": {},
   "source": [
    "#### Set up simulated matrix"
   ]
  },
  {
   "cell_type": "code",
   "execution_count": 20,
   "id": "ec890dee",
   "metadata": {},
   "outputs": [],
   "source": [
    "# init the first (basic) simulated matrix\n",
    "matrix = simulate_matrix_realistic(matrix_shape)\n",
    "\n",
    "train, val, test = util_functions.split(\n",
    "                                    matrix,\n",
    "                                    val_frac=0.1, \n",
    "                                    test_frac=0.1, \n",
    "                                    min_present=2\n",
    ")\n",
    "\n",
    "train_tens = torch.tensor(train)\n",
    "val_tens = torch.tensor(val)\n",
    "test_tens = torch.tensor(test)"
   ]
  },
  {
   "cell_type": "markdown",
   "id": "1639a93f",
   "metadata": {},
   "source": [
    "#### Set up scaler"
   ]
  },
  {
   "cell_type": "code",
   "execution_count": 45,
   "id": "494f6e6c",
   "metadata": {},
   "outputs": [],
   "source": [
    "# with StandardScaler\n",
    "scaler = StandardScaler()\n",
    "std_scaled = scaler.fit_transform(train_tens)\n",
    "\n",
    "# manually\n",
    "scale_factor = np.nanstd(train)\n",
    "manual_scaled = train / scale_factor\n",
    "manual_scaled = torch.tensor(manual_scaled)\n",
    "\n",
    "std_scaled_nonmissing = std_scaled[~torch.isnan(std_scaled)]\n",
    "manual_scaled_nonmissing = manual_scaled[~torch.isnan(manual_scaled)]\n",
    "\n",
    "assert np.all(np.isclose(std_scaled_nonmissing, manual_scaled_nonmissing, atol=0.1))"
   ]
  },
  {
   "cell_type": "code",
   "execution_count": 47,
   "id": "142784ee",
   "metadata": {},
   "outputs": [
    {
     "data": {
      "text/plain": [
       "tensor([1.3999, 2.1038, 1.1946, 2.1723, 5.3817, 0.4495, 1.1685, 4.0401, 1.9148,\n",
       "        0.7546, 5.0880, 1.1272, 1.6801, 0.8480, 0.6123, 0.6303, 1.4315, 0.2512,\n",
       "        1.7962, 0.3307, 0.6018, 1.1150, 1.3057, 1.3453, 1.0597, 1.3224, 3.1385,\n",
       "        0.6977, 1.0280, 2.2642, 2.0440, 1.5769, 1.2355, 2.6857, 0.9784, 3.1620,\n",
       "        1.0839, 0.9546, 0.3114, 0.6949, 0.3451, 1.1183, 0.1415, 0.3949, 0.3951,\n",
       "        1.5239, 1.5118, 1.2330, 1.4709, 0.7735, 1.1382, 2.4765, 0.8257, 0.3560,\n",
       "        0.6086, 0.3535, 0.6992, 0.2715, 1.2039, 0.4156, 0.5560, 2.1905, 0.9536,\n",
       "        1.6510, 0.7859, 1.4389, 1.2083, 2.0876, 0.3759, 0.7544, 0.8396, 1.2048,\n",
       "        0.3748, 0.8839, 0.3114, 0.4715, 0.5564, 1.0964, 0.3994, 0.2991, 0.9331,\n",
       "        1.2541, 0.7724, 3.2692, 0.1938, 3.3336, 2.5300, 1.9891, 1.0850, 1.4942,\n",
       "        1.0742, 2.2772, 0.6999, 3.2513, 0.5502, 1.7449], dtype=torch.float64)"
      ]
     },
     "execution_count": 47,
     "metadata": {},
     "output_type": "execute_result"
    }
   ],
   "source": [
    "std_scaled_nonmissing"
   ]
  },
  {
   "cell_type": "code",
   "execution_count": null,
   "id": "a934f7a1",
   "metadata": {},
   "outputs": [],
   "source": []
  }
 ],
 "metadata": {
  "kernelspec": {
   "display_name": "ms_imputer",
   "language": "python",
   "name": "ms_imputer"
  },
  "language_info": {
   "codemirror_mode": {
    "name": "ipython",
    "version": 3
   },
   "file_extension": ".py",
   "mimetype": "text/x-python",
   "name": "python",
   "nbconvert_exporter": "python",
   "pygments_lexer": "ipython3",
   "version": "3.7.13"
  }
 },
 "nbformat": 4,
 "nbformat_minor": 5
}
