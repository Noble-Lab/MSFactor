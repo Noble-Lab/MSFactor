{
 "cells": [
  {
   "cell_type": "markdown",
   "id": "ab17cd9b",
   "metadata": {},
   "source": [
    "# utilities testing\n",
    "4.1.22"
   ]
  },
  {
   "cell_type": "code",
   "execution_count": 1,
   "id": "4e9ca9bf",
   "metadata": {},
   "outputs": [
    {
     "name": "stderr",
     "output_type": "stream",
     "text": [
      "/Users/lincoln/miniconda3/envs/ms_imputer/lib/python3.7/site-packages/tqdm/auto.py:22: TqdmWarning: IProgress not found. Please update jupyter and ipywidgets. See https://ipywidgets.readthedocs.io/en/stable/user_install.html\n",
      "  from .autonotebook import tqdm as notebook_tqdm\n"
     ]
    }
   ],
   "source": [
    "import pandas as pd\n",
    "import numpy as np\n",
    "import torch\n",
    "\n",
    "import sys\n",
    "sys.path.append('../tests/')\n",
    "\n",
    "import util_functions_test"
   ]
  },
  {
   "cell_type": "code",
   "execution_count": null,
   "id": "9567ddbb",
   "metadata": {},
   "outputs": [],
   "source": []
  }
 ],
 "metadata": {
  "kernelspec": {
   "display_name": "ms_imputer",
   "language": "python",
   "name": "ms_imputer"
  },
  "language_info": {
   "codemirror_mode": {
    "name": "ipython",
    "version": 3
   },
   "file_extension": ".py",
   "mimetype": "text/x-python",
   "name": "python",
   "nbconvert_exporter": "python",
   "pygments_lexer": "ipython3",
   "version": "3.7.13"
  }
 },
 "nbformat": 4,
 "nbformat_minor": 5
}
