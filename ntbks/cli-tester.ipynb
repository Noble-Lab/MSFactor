{
 "cells": [
  {
   "cell_type": "code",
   "execution_count": 1,
   "metadata": {},
   "outputs": [
    {
     "name": "stderr",
     "output_type": "stream",
     "text": [
      "/net/noble/vol2/home/lincolnh/.local/lib/python3.7/site-packages/tqdm/auto.py:22: TqdmWarning: IProgress not found. Please update jupyter and ipywidgets. See https://ipywidgets.readthedocs.io/en/stable/user_install.html\n",
      "  from .autonotebook import tqdm as notebook_tqdm\n"
     ]
    }
   ],
   "source": [
    "import unittest\n",
    "import pytest\n",
    "import os\n",
    "import pandas as pd \n",
    "import numpy as np\n",
    "import torch\n",
    "\n",
    "from click.testing import CliRunner\n",
    "from ms_imputer.models.linear import GradNMFImputer"
   ]
  },
  {
   "cell_type": "markdown",
   "metadata": {},
   "source": [
    "#### This one works!!"
   ]
  },
  {
   "cell_type": "code",
   "execution_count": 2,
   "metadata": {},
   "outputs": [],
   "source": [
    "from ms_imputer.ms_imputer import main\n",
    "\n",
    "csv_path = \"../tests/peptide_quants_tester.csv\"\n",
    "output_stem = \"tester\"\n",
    "factors = 4\n",
    "learning_rate = 0.1 \n",
    "max_epochs = 100\n",
    "\n",
    "runner = CliRunner()\n",
    "result = runner.invoke(main, [\"--csv_path\", csv_path, \"--output_stem\", output_stem, \"--factors\", 4])\n",
    "assert result.exit_code == 0"
   ]
  },
  {
   "cell_type": "code",
   "execution_count": 5,
   "metadata": {},
   "outputs": [
    {
     "data": {
      "text/plain": [
       "' \\nfitting model\\n\\r  0%|          | 0/3000 [00:00<?, ?epoch/s]\\r  2%|▏         | 50/3000 [00:00<00:06, 490.75epoch/s]\\r  3%|▎         | 103/3000 [00:00<00:05, 509.26epoch/s]\\r  5%|▌         | 156/3000 [00:00<00:05, 514.67epoch/s]\\r  7%|▋         | 209/3000 [00:00<00:05, 516.97epoch/s]\\r  9%|▉         | 267/3000 [00:00<00:05, 536.27epoch/s]\\r 11%|█         | 327/3000 [00:00<00:04, 557.07epoch/s]\\r 13%|█▎        | 387/3000 [00:00<00:04, 570.38epoch/s]\\r 15%|█▍        | 447/3000 [00:00<00:04, 578.98epoch/s]\\r 17%|█▋        | 507/3000 [00:00<00:04, 584.70epoch/s]\\r 19%|█▉        | 567/3000 [00:01<00:04, 588.74epoch/s]\\r 21%|██        | 627/3000 [00:01<00:04, 591.47epoch/s]\\r 23%|██▎       | 687/3000 [00:01<00:03, 593.35epoch/s]\\r 25%|██▍       | 747/3000 [00:01<00:03, 594.91epoch/s]\\r 27%|██▋       | 807/3000 [00:01<00:03, 595.88epoch/s]\\r 29%|██▉       | 867/3000 [00:01<00:03, 577.17epoch/s]\\r 31%|███       | 927/3000 [00:01<00:03, 582.44epoch/s]\\r 33%|███▎      | 987/3000 [00:01<00:03, 586.38epoch/s]\\r 35%|███▍      | 1047/3000 [00:01<00:03, 588.86epoch/s]\\r 37%|███▋      | 1107/3000 [00:01<00:03, 590.62epoch/s]\\r 39%|███▉      | 1167/3000 [00:02<00:03, 591.90epoch/s]\\r 41%|████      | 1227/3000 [00:02<00:02, 593.21epoch/s]\\r 43%|████▎     | 1283/3000 [00:02<00:02, 575.95epoch/s]\\nDone!\\n \\n'"
      ]
     },
     "execution_count": 5,
     "metadata": {},
     "output_type": "execute_result"
    }
   ],
   "source": [
    "runner = CliRunner()\n",
    "result = runner.invoke(main, [\"--csv_path\", csv_path, \"--output_stem\", output_stem, \"--factors\", 4, \"--testing\", True])\n",
    "result.output"
   ]
  },
  {
   "cell_type": "code",
   "execution_count": 11,
   "metadata": {},
   "outputs": [],
   "source": [
    "result."
   ]
  },
  {
   "cell_type": "code",
   "execution_count": 34,
   "metadata": {},
   "outputs": [
    {
     "data": {
      "text/plain": [
       "GradNMFImputer(\n",
       "  (row_factors): Embedding(60, 8)\n",
       "  (col_factors): Embedding(24, 8)\n",
       "  (loss_func): MSELoss()\n",
       ")"
      ]
     },
     "execution_count": 34,
     "metadata": {},
     "output_type": "execute_result"
    }
   ],
   "source": [
    "quants_matrix = pd.read_csv(csv_path)\n",
    "quants_matrix.replace([0, 0.0], np.nan, inplace=True)\n",
    "quants_matrix = np.array(quants_matrix)\n",
    "\n",
    "nmf_model = GradNMFImputer(\n",
    "                n_rows=quants_matrix.shape[0], \n",
    "                n_cols=quants_matrix.shape[1], \n",
    "                n_factors=8, \n",
    "                stopping_tol=0.001, \n",
    "                train_batch_size=100, \n",
    "                eval_batch_size=100,\n",
    "                n_epochs=100, \n",
    "                loss_func=\"MSE\",\n",
    "                optimizer=torch.optim.Adam,\n",
    "                optimizer_kwargs={\"lr\": 0.1}\n",
    "            )\n",
    "nmf_model"
   ]
  },
  {
   "cell_type": "code",
   "execution_count": 35,
   "metadata": {},
   "outputs": [
    {
     "data": {
      "text/plain": [
       "60"
      ]
     },
     "execution_count": 35,
     "metadata": {},
     "output_type": "execute_result"
    }
   ],
   "source": [
    "nmf_model.n_rows"
   ]
  },
  {
   "cell_type": "code",
   "execution_count": 36,
   "metadata": {},
   "outputs": [
    {
     "data": {
      "text/plain": [
       "24"
      ]
     },
     "execution_count": 36,
     "metadata": {},
     "output_type": "execute_result"
    }
   ],
   "source": [
    "nmf_model.n_cols"
   ]
  },
  {
   "cell_type": "code",
   "execution_count": 37,
   "metadata": {},
   "outputs": [
    {
     "data": {
      "text/plain": [
       "8"
      ]
     },
     "execution_count": 37,
     "metadata": {},
     "output_type": "execute_result"
    }
   ],
   "source": [
    "nmf_model.n_row_factors"
   ]
  },
  {
   "cell_type": "code",
   "execution_count": 38,
   "metadata": {},
   "outputs": [
    {
     "data": {
      "text/plain": [
       "100"
      ]
     },
     "execution_count": 38,
     "metadata": {},
     "output_type": "execute_result"
    }
   ],
   "source": [
    "nmf_model.n_epochs"
   ]
  },
  {
   "cell_type": "code",
   "execution_count": null,
   "metadata": {},
   "outputs": [],
   "source": []
  }
 ],
 "metadata": {
  "kernelspec": {
   "display_name": "ms_imputer",
   "language": "python",
   "name": "ms_imputer"
  },
  "language_info": {
   "codemirror_mode": {
    "name": "ipython",
    "version": 3
   },
   "file_extension": ".py",
   "mimetype": "text/x-python",
   "name": "python",
   "nbconvert_exporter": "python",
   "pygments_lexer": "ipython3",
   "version": "3.7.13"
  }
 },
 "nbformat": 4,
 "nbformat_minor": 4
}
