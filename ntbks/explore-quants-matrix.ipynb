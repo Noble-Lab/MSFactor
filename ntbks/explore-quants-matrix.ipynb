{
 "cells": [
  {
   "cell_type": "markdown",
   "id": "e9de6e46",
   "metadata": {},
   "source": [
    "# Explore quants matrix   \n",
    "3.31.22      \n",
    "\n",
    "How can I design a simulated matrix that more closely resembles an actual peptides/protein quants matrix?    "
   ]
  },
  {
   "cell_type": "code",
   "execution_count": 1,
   "id": "1b74a04d",
   "metadata": {},
   "outputs": [
    {
     "name": "stderr",
     "output_type": "stream",
     "text": [
      "/Users/lincoln/miniconda3/envs/ms_imputer/lib/python3.7/site-packages/tqdm/auto.py:22: TqdmWarning: IProgress not found. Please update jupyter and ipywidgets. See https://ipywidgets.readthedocs.io/en/stable/user_install.html\n",
      "  from .autonotebook import tqdm as notebook_tqdm\n"
     ]
    }
   ],
   "source": [
    "import unittest\n",
    "import pytest\n",
    "import pandas as pd \n",
    "import numpy as np\n",
    "import torch\n",
    "from scipy.stats import ranksums\n",
    "\n",
    "import sys\n",
    "sys.path.append('../ms_imputer/')\n",
    "\n",
    "from models.linear import GradNMFImputer\n",
    "import util_functions"
   ]
  },
  {
   "cell_type": "code",
   "execution_count": 2,
   "id": "fb32abba",
   "metadata": {},
   "outputs": [
    {
     "data": {
      "text/plain": [
       "array([[      nan,       nan,       nan, ...,  7348900.,  6215900.,\n",
       "         7717400.],\n",
       "       [      nan,       nan,       nan, ...,       nan,       nan,\n",
       "              nan],\n",
       "       [29276000., 24843000., 26687000., ..., 17439000., 17674000.,\n",
       "        16140000.],\n",
       "       ...,\n",
       "       [      nan,       nan,       nan, ...,  2733700.,  2958100.,\n",
       "         3523200.],\n",
       "       [      nan,       nan,       nan, ..., 34843000., 34033000.,\n",
       "        33496000.],\n",
       "       [      nan,       nan,       nan, ..., 48650000., 22799000.,\n",
       "        53835000.]])"
      ]
     },
     "execution_count": 2,
     "metadata": {},
     "output_type": "execute_result"
    }
   ],
   "source": [
    "quants_matrix = pd.read_csv(\"~/Desktop/maxquant-data/PXD010612_peptides.csv\")\n",
    "quants_matrix.replace([0, 0.0], np.nan, inplace=True)\n",
    "quants_matrix = np.array(quants_matrix)\n",
    "quants_matrix"
   ]
  },
  {
   "cell_type": "code",
   "execution_count": 3,
   "id": "2130cea1",
   "metadata": {
    "scrolled": true
   },
   "outputs": [
    {
     "name": "stdout",
     "output_type": "stream",
     "text": [
      "matrix min:  12096.0\n",
      "matrix max:  61849000000.0\n",
      " \n",
      "matrix mean 102161962.48006964\n",
      "matrix std:  978349975.5876377\n"
     ]
    }
   ],
   "source": [
    "print(\"matrix min: \", np.nanmin(quants_matrix))\n",
    "print(\"matrix max: \", np.nanmax(quants_matrix))\n",
    "print(\" \")\n",
    "print(\"matrix mean\", np.nanmean(quants_matrix))\n",
    "print(\"matrix std: \", np.nanstd(quants_matrix))"
   ]
  },
  {
   "cell_type": "markdown",
   "id": "12a50d9e",
   "metadata": {},
   "source": [
    "#### Init simulated matrix\n",
    "Note that this matrix is likely no longer the designate rank, as we've taken the absolute value of gaussian drawn floats"
   ]
  },
  {
   "cell_type": "code",
   "execution_count": 4,
   "id": "8407cdea",
   "metadata": {},
   "outputs": [],
   "source": [
    "def simulate_matrix_realistic(matrix_shape):\n",
    "    \"\"\"\n",
    "    Init a simulated matrix of known size and (approximate) rank. \n",
    "    The values of quants_mean and quants_std were derived from a \n",
    "    real peptide quants matrix, and should allow us to generate a \n",
    "    matrix that more accurately simulates a real peptide quants \n",
    "    dataset. Note that taking the abs value of W and H most likely\n",
    "    changes the true rank of the matrix, thus the assert statement\n",
    "    in here won't necessarily pass. \n",
    "    \n",
    "    Parameters\n",
    "    ----------\n",
    "    matrix_shape: tuple, (x,y,z) where x=n_rows, y=n_cols\n",
    "                    and z=rank\n",
    "    Returns\n",
    "    -------\n",
    "    X : np.ndarray, the simulated matrix\n",
    "    \"\"\"\n",
    "    quants_mean = 102161962.5\n",
    "    quants_std = 978349975.6\n",
    "\n",
    "    matrix_shape = (12, 10, 3) # (n_rows, n_cols, rank)\n",
    "    W = np.abs(np.random.normal(loc=quants_mean, scale=quants_std, size=(matrix_shape[0], matrix_shape[2])))\n",
    "    H = np.abs(np.random.normal(loc=quants_mean, scale=quants_std, size=(matrix_shape[2], matrix_shape[1])))\n",
    "\n",
    "    X = W @ H\n",
    "\n",
    "    # won't necessarily pass\n",
    "    assert np.linalg.matrix_rank(X) == matrix_shape[2]\n",
    "    \n",
    "    return X"
   ]
  },
  {
   "cell_type": "code",
   "execution_count": 5,
   "id": "4c8670ed",
   "metadata": {},
   "outputs": [],
   "source": [
    "# set params\n",
    "matrix_shape = (200, 10, 3)\n",
    "lf = 8\n",
    "tolerance = 0.0001\n",
    "batch_size = 100\n",
    "max_iters = 3000\n",
    "learning_rate = 0.1\n",
    "\n",
    "matrix = simulate_matrix_realistic(matrix_shape)\n",
    "\n",
    "train, val, test = util_functions.split(\n",
    "                                    matrix,\n",
    "                                    val_frac=0.1, \n",
    "                                    test_frac=0.1, \n",
    "                                    min_present=2\n",
    ")"
   ]
  },
  {
   "cell_type": "code",
   "execution_count": 6,
   "id": "a06621e2",
   "metadata": {},
   "outputs": [
    {
     "name": "stderr",
     "output_type": "stream",
     "text": [
      "  4%|▍         | 122/3000 [00:00<00:05, 532.43epoch/s]"
     ]
    },
    {
     "name": "stdout",
     "output_type": "stream",
     "text": [
      "early stopping triggered\n"
     ]
    },
    {
     "name": "stderr",
     "output_type": "stream",
     "text": [
      "\n"
     ]
    }
   ],
   "source": [
    "model = GradNMFImputer(\n",
    "                n_rows=train.shape[0], \n",
    "                n_cols=train.shape[1], \n",
    "                n_factors=lf, \n",
    "                stopping_tol=tolerance, \n",
    "                train_batch_size=batch_size, \n",
    "                eval_batch_size=batch_size,\n",
    "                n_epochs=max_iters, \n",
    "                loss_func=\"MSE\",\n",
    "                optimizer=torch.optim.Adam,\n",
    "                optimizer_kwargs={\"lr\": learning_rate}\n",
    ")\n",
    "\n",
    "recon = model.fit_transform(train, val)"
   ]
  },
  {
   "cell_type": "code",
   "execution_count": 7,
   "id": "f0988730",
   "metadata": {},
   "outputs": [
    {
     "name": "stdout",
     "output_type": "stream",
     "text": [
      "5.101520672503942e-15\n",
      "0.29269762862028165\n",
      "0.14894518651351432\n"
     ]
    }
   ],
   "source": [
    "# rescale by a constant, for easier error tolerance calculation\n",
    "train_scaled = train / 1e18\n",
    "val_scaled = val / 1e18\n",
    "test_scaled = test / 1e18\n",
    "recon_scaled = recon / 1e18\n",
    "\n",
    "train_err_scaled = util_functions.mse_func_np(train_scaled, recon_scaled)\n",
    "val_err_scaled = util_functions.mse_func_np(val_scaled, recon_scaled)\n",
    "test_err_scaled = util_functions.mse_func_np(test_scaled, recon_scaled)\n",
    "\n",
    "print(train_err_scaled)\n",
    "print(val_err_scaled)\n",
    "print(test_err_scaled)"
   ]
  },
  {
   "cell_type": "code",
   "execution_count": 8,
   "id": "9cf6eebb",
   "metadata": {},
   "outputs": [
    {
     "name": "stdout",
     "output_type": "stream",
     "text": [
      "True\n",
      "True\n",
      "True\n"
     ]
    }
   ],
   "source": [
    "print(train_err_scaled < 1e-6)\n",
    "print(val_err_scaled < 1.0)\n",
    "print(test_err_scaled < 1.0)"
   ]
  },
  {
   "cell_type": "markdown",
   "id": "bc18b04e",
   "metadata": {},
   "source": [
    "***"
   ]
  },
  {
   "cell_type": "markdown",
   "id": "0faec158",
   "metadata": {},
   "source": [
    "### Want to add np.nans to the matrix"
   ]
  },
  {
   "cell_type": "code",
   "execution_count": 44,
   "id": "a664265e",
   "metadata": {},
   "outputs": [],
   "source": [
    "n_nans = int(np.floor(matrix.size * 0.4))"
   ]
  },
  {
   "cell_type": "code",
   "execution_count": 45,
   "id": "356f13ac",
   "metadata": {},
   "outputs": [
    {
     "data": {
      "text/plain": [
       "array([[9.60604445e+17, 8.36029026e+17, 8.70780404e+17, 7.75666024e+17,\n",
       "                   nan, 6.69681962e+17, 4.79511110e+17,            nan,\n",
       "                   nan, 1.86781233e+18],\n",
       "       [6.32887491e+17,            nan, 1.60494453e+18,            nan,\n",
       "                   nan,            nan,            nan, 2.06437852e+18,\n",
       "        3.34708124e+18, 2.35055954e+18],\n",
       "       [5.60389777e+17, 8.29221103e+17,            nan,            nan,\n",
       "                   nan, 6.44143383e+17, 6.50912452e+17, 1.59377534e+18,\n",
       "        1.97275247e+18, 1.72646066e+18],\n",
       "       [1.26200757e+18,            nan, 4.75053748e+17,            nan,\n",
       "        3.99552169e+17, 1.00027105e+18, 8.15807338e+17, 2.31472404e+18,\n",
       "                   nan,            nan],\n",
       "       [1.90653427e+18, 1.80065150e+18, 1.79689460e+18, 1.61492270e+18,\n",
       "                   nan, 1.45554573e+18,            nan, 3.60692538e+18,\n",
       "        3.06216271e+18,            nan],\n",
       "       [           nan,            nan, 2.43497784e+18, 1.13119935e+18,\n",
       "                   nan, 8.31458047e+17,            nan,            nan,\n",
       "                   nan, 2.91229029e+18],\n",
       "       [1.66828600e+18, 2.13006941e+18,            nan,            nan,\n",
       "        2.61982256e+18, 1.99243033e+18,            nan,            nan,\n",
       "        3.73337418e+18, 4.58436304e+18],\n",
       "       [           nan, 4.06873998e+17, 5.49689084e+17, 3.35861035e+17,\n",
       "        3.62390514e+17, 2.84829213e+17, 2.35347588e+17,            nan,\n",
       "                   nan,            nan],\n",
       "       [           nan, 1.66519392e+18, 1.66890634e+18, 1.58488641e+18,\n",
       "        4.12306016e+17,            nan,            nan,            nan,\n",
       "                   nan, 3.76225625e+18],\n",
       "       [1.25563977e+17, 3.65397896e+17, 7.09406471e+16,            nan,\n",
       "                   nan,            nan,            nan, 7.98121279e+17,\n",
       "        8.25755379e+17, 7.41548985e+17],\n",
       "       [1.52542721e+18, 1.77996561e+18,            nan, 1.47034525e+18,\n",
       "        1.99474771e+18, 1.74153445e+18, 1.77383623e+18, 3.94429630e+18,\n",
       "        2.69553189e+18,            nan],\n",
       "       [4.16743945e+17,            nan,            nan,            nan,\n",
       "        9.19990907e+17, 5.84136512e+17, 6.43459258e+17,            nan,\n",
       "        1.22524443e+18,            nan]])"
      ]
     },
     "execution_count": 45,
     "metadata": {},
     "output_type": "execute_result"
    }
   ],
   "source": [
    "# flatten the initial matrix\n",
    "m_flat = matrix.flatten()\n",
    "# randomly select indices\n",
    "rand_idx = np.random.choice(len(m_flat), size=n_nans, replace=False)\n",
    "# set to np.nans\n",
    "m_flat[rand_idx] = np.nan\n",
    "# reshape\n",
    "matrix_missing = m_flat.reshape(matrix.shape)\n",
    "matrix_missing"
   ]
  },
  {
   "cell_type": "code",
   "execution_count": 46,
   "id": "cc3d0773",
   "metadata": {
    "scrolled": true
   },
   "outputs": [
    {
     "name": "stderr",
     "output_type": "stream",
     "text": [
      "  2%|▏         | 66/3000 [00:00<00:05, 571.65epoch/s]"
     ]
    },
    {
     "name": "stdout",
     "output_type": "stream",
     "text": [
      "early stopping triggered\n"
     ]
    },
    {
     "name": "stderr",
     "output_type": "stream",
     "text": [
      "\n"
     ]
    }
   ],
   "source": [
    "train, val, test = util_functions.split(\n",
    "                                    matrix_missing,\n",
    "                                    val_frac=0.1, \n",
    "                                    test_frac=0.1, \n",
    "                                    min_present=1\n",
    ")\n",
    "\n",
    "model = GradNMFImputer(\n",
    "                n_rows=train.shape[0], \n",
    "                n_cols=train.shape[1], \n",
    "                n_factors=lf, \n",
    "                stopping_tol=tolerance, \n",
    "                train_batch_size=batch_size, \n",
    "                eval_batch_size=batch_size,\n",
    "                n_epochs=max_iters, \n",
    "                loss_func=\"MSE\",\n",
    "                optimizer=torch.optim.Adam,\n",
    "                optimizer_kwargs={\"lr\": learning_rate}\n",
    ")\n",
    "\n",
    "recon = model.fit_transform(train, val)"
   ]
  },
  {
   "cell_type": "code",
   "execution_count": 47,
   "id": "e5337d03",
   "metadata": {},
   "outputs": [
    {
     "name": "stdout",
     "output_type": "stream",
     "text": [
      "8.099204922858711e-15\n",
      "0.13173816069595873\n",
      "1.0310213437878208\n"
     ]
    }
   ],
   "source": [
    "# rescale by a constant, for easier error tolerance calculation\n",
    "train_scaled = train / 1e18\n",
    "val_scaled = val / 1e18\n",
    "test_scaled = test / 1e18\n",
    "recon_scaled = recon / 1e18\n",
    "\n",
    "train_err_scaled = util_functions.mse_func_np(train_scaled, recon_scaled)\n",
    "val_err_scaled = util_functions.mse_func_np(val_scaled, recon_scaled)\n",
    "test_err_scaled = util_functions.mse_func_np(test_scaled, recon_scaled)\n",
    "\n",
    "print(train_err_scaled)\n",
    "print(val_err_scaled)\n",
    "print(test_err_scaled)"
   ]
  },
  {
   "cell_type": "code",
   "execution_count": null,
   "id": "d7088d45",
   "metadata": {},
   "outputs": [],
   "source": []
  }
 ],
 "metadata": {
  "kernelspec": {
   "display_name": "ms_imputer",
   "language": "python",
   "name": "ms_imputer"
  },
  "language_info": {
   "codemirror_mode": {
    "name": "ipython",
    "version": 3
   },
   "file_extension": ".py",
   "mimetype": "text/x-python",
   "name": "python",
   "nbconvert_exporter": "python",
   "pygments_lexer": "ipython3",
   "version": "3.7.13"
  }
 },
 "nbformat": 4,
 "nbformat_minor": 5
}
