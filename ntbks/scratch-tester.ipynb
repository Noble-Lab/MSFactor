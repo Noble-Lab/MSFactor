{
 "cells": [
  {
   "cell_type": "markdown",
   "id": "8bb61ce6",
   "metadata": {},
   "source": [
    "# scratch-tester\n",
    "3.31.22"
   ]
  },
  {
   "cell_type": "code",
   "execution_count": 1,
   "id": "39b3dbf5",
   "metadata": {},
   "outputs": [
    {
     "name": "stderr",
     "output_type": "stream",
     "text": [
      "/Users/lincoln/miniconda3/envs/ms_imputer/lib/python3.7/site-packages/tqdm/auto.py:22: TqdmWarning: IProgress not found. Please update jupyter and ipywidgets. See https://ipywidgets.readthedocs.io/en/stable/user_install.html\n",
      "  from .autonotebook import tqdm as notebook_tqdm\n"
     ]
    }
   ],
   "source": [
    "import unittest\n",
    "import pytest\n",
    "import pandas as pd \n",
    "import numpy as np\n",
    "import torch\n",
    "from scipy.stats import ranksums\n",
    "\n",
    "import sys\n",
    "sys.path.append('../ms_imputer/')\n",
    "\n",
    "from models.linear import GradNMFImputer\n",
    "import util_functions"
   ]
  },
  {
   "cell_type": "markdown",
   "id": "3061adf7",
   "metadata": {},
   "source": [
    "#### Set configs"
   ]
  },
  {
   "cell_type": "code",
   "execution_count": 2,
   "id": "71a51e32",
   "metadata": {},
   "outputs": [],
   "source": [
    "# simulated matrix configs\n",
    "rng = np.random.default_rng(42) # random seed\n",
    "matrix_shape = (12,10,3) # (n_rows, n_cols, rank)\n",
    "\n",
    "# training params\n",
    "n_factors = 4 \n",
    "tolerance = 0.0001\n",
    "batch_size = 100\n",
    "max_iters = 400\n",
    "learning_rate = 0.05\n",
    "PXD = \"tester\"                             \n",
    "\n",
    "# error assessment params\n",
    "train_err_tol = 1e-8\n",
    "test_err_tol = 1e-1"
   ]
  },
  {
   "cell_type": "markdown",
   "id": "7853959e",
   "metadata": {},
   "source": [
    "#### Define some helper functions"
   ]
  },
  {
   "cell_type": "code",
   "execution_count": 3,
   "id": "028d242d",
   "metadata": {},
   "outputs": [],
   "source": [
    "def simulate_matrix(matrix_shape):\n",
    "    \"\"\" \n",
    "    Init simulated matrix of known size and rank\n",
    "\n",
    "    Parameters\n",
    "    ----------\n",
    "    matrix_shape: tuple, (x,y,z) where x=n_rows, y=n_cols\n",
    "                  and z=rank\n",
    "    Returns\n",
    "    -------\n",
    "    X: np.ndarray, the simulated matrix\n",
    "    \"\"\"\n",
    "    W = rng.uniform(size=(matrix_shape[0], matrix_shape[2]))\n",
    "    H = rng.uniform(size=(matrix_shape[2], matrix_shape[1]))\n",
    "    X = W @ H\n",
    "\n",
    "    assert np.linalg.matrix_rank(X) == matrix_shape[2]\n",
    "\n",
    "    return X"
   ]
  },
  {
   "cell_type": "markdown",
   "id": "1bbc3122",
   "metadata": {},
   "source": [
    "#### Set up"
   ]
  },
  {
   "cell_type": "code",
   "execution_count": 4,
   "id": "8843d730",
   "metadata": {},
   "outputs": [],
   "source": [
    "matrix = simulate_matrix(matrix_shape)\n",
    "pd.DataFrame(matrix).to_csv(\"simulated.csv\", index=False)\n",
    "\n",
    "train, val, test = util_functions.split(\n",
    "                                    matrix,\n",
    "                                    val_frac=0.1, \n",
    "                                    test_frac=0.1, \n",
    "                                    min_present=1\n",
    ")"
   ]
  },
  {
   "cell_type": "markdown",
   "id": "8cfd89cb",
   "metadata": {},
   "source": [
    "#### Fit"
   ]
  },
  {
   "cell_type": "code",
   "execution_count": 5,
   "id": "c0c9efec",
   "metadata": {},
   "outputs": [
    {
     "name": "stderr",
     "output_type": "stream",
     "text": [
      "100%|██████████| 400/400 [00:00<00:00, 421.72epoch/s]\n"
     ]
    }
   ],
   "source": [
    "nmf_model = GradNMFImputer(\n",
    "                    n_rows=train.shape[0], \n",
    "                    n_cols=train.shape[1], \n",
    "                    n_factors=n_factors, \n",
    "                    stopping_tol=tolerance, \n",
    "                    train_batch_size=batch_size, \n",
    "                    eval_batch_size=batch_size,\n",
    "                    n_epochs=max_iters, \n",
    "                    loss_func=\"MSE\",\n",
    "                    optimizer=torch.optim.Adam,\n",
    "                    optimizer_kwargs={\"lr\": learning_rate}\n",
    "                )\n",
    "\n",
    "recon = nmf_model.fit_transform(train, val)"
   ]
  },
  {
   "cell_type": "markdown",
   "id": "5cfb4dab",
   "metadata": {},
   "source": [
    "#### Run some tests"
   ]
  },
  {
   "cell_type": "code",
   "execution_count": 61,
   "id": "75e97bde",
   "metadata": {},
   "outputs": [],
   "source": [
    "train_err = util_functions.mse_func_np(train, recon)\n",
    "val_err = util_functions.mse_func_np(val, recon)\n",
    "test_err = util_functions.mse_func_np(test, recon)\n",
    "\n",
    "# make sure error tolerances of predictions for all three sets are reasonable\n",
    "assert train_err < train_err_tol\n",
    "assert val_err < test_err_tol\n",
    "assert test_err < test_err_tol\n",
    "\n",
    "# make sure shape of reconstructed matrix is correct\n",
    "assert recon.shape == train.shape\n",
    "\n",
    "# make sure model isn't imputing a bunch of zeros\n",
    "imputed_zero_cts = np.count_nonzero(np.isnan(recon))\n",
    "assert imputed_zero_cts < train.size * 0.1\n",
    "\n",
    "# make sure model isn't imputing extreme values\n",
    "assert recon.max() < matrix.max() * 2\n",
    "assert recon.min() > matrix.min() / 2\n",
    "\n",
    "# make sure all predictions are positive\n",
    "assert np.count_nonzero(recon < 0) == 0\n",
    "\n",
    "# make sure recon matrix isn't just the input matrix \n",
    "assert np.array_equal(matrix, recon) == False\n",
    "\n",
    "n_epochs = nmf_model.history.shape[0] - 1\n",
    "\n",
    "# make sure that validation loss has decreased\n",
    "if n_epochs > 15:\n",
    "    window2 = np.array(nmf_model.history[\"Validation MSE\"][0:15])\n",
    "    window1 = np.array(nmf_model.history[\"Validation MSE\"][-15:])\n",
    "\n",
    "    val_wilcoxon_p = ranksums(window2, window1, alternative=\"greater\")[1]\n",
    "\n",
    "    assert val_wilcoxon_p < 0.05\n",
    "    \n",
    "    window2 = np.array(nmf_model.history[\"Train MSE\"][0:15])\n",
    "    window1 = np.array(nmf_model.history[\"Train MSE\"][-15:])\n",
    "\n",
    "    train_wilcoxon_p = ranksums(window2, window1, alternative=\"greater\")[1]\n",
    "\n",
    "    assert train_wilcoxon_p < 0.05"
   ]
  },
  {
   "cell_type": "code",
   "execution_count": 92,
   "id": "719ec194",
   "metadata": {},
   "outputs": [],
   "source": [
    "train_nans = np.count_nonzero(np.isnan(train))\n",
    "val_nans = np.count_nonzero(np.isnan(val))\n",
    "test_nans = np.count_nonzero(np.isnan(test))\n",
    "\n",
    "train_frac = (train.size - train_nans) / train.size\n",
    "val_frac = (val.size - val_nans) / val.size\n",
    "test_frac = (test.size - test_nans) / test.size\n",
    "\n",
    "assert 0.9 > train_frac > 0.7\n",
    "assert 0.25 > val_frac > 0.0\n",
    "assert 0.25 > test_frac > 0.0\n",
    "\n",
    "assert np.isclose(val_frac, test_frac, atol=0.1)"
   ]
  },
  {
   "cell_type": "markdown",
   "id": "7f81a6c7",
   "metadata": {},
   "source": [
    "***"
   ]
  },
  {
   "cell_type": "code",
   "execution_count": 110,
   "id": "96404f47",
   "metadata": {},
   "outputs": [
    {
     "data": {
      "text/plain": [
       "array([[0.24427432, 0.7308385 , 0.49049565, 0.67648185, 0.49200386,\n",
       "        0.37537419, 0.18842389, 0.71352224, 0.43766731, 0.33919418],\n",
       "       [0.21626156, 0.71741705, 0.39502737, 0.69870411, 0.4937684 ,\n",
       "        0.33232062, 0.17705923, 0.76886266, 0.39407602, 0.60576079],\n",
       "       [0.30339291, 0.98684314, 0.70836877, 0.84099321, 0.58016597,\n",
       "        0.40906874, 0.18937264, 0.95129726, 0.5355505 , 0.37865934],\n",
       "       [0.22053357, 0.71799566, 0.29857245, 0.78019864, 0.56748027,\n",
       "        0.38349717, 0.22242682, 0.82712338, 0.41265393, 0.86008498],\n",
       "       [0.44403447, 1.27013807, 0.60000602, 1.39899408, 1.06404218,\n",
       "        0.8116424 , 0.46110182, 1.38490508, 0.82508262, 1.23670631],\n",
       "       [0.3712009 , 0.93478566, 0.46731922, 1.07111933, 0.85514286,\n",
       "        0.72042453, 0.40817006, 0.97556867, 0.68917356, 0.7656962 ],\n",
       "       [0.09458834, 0.37453185, 0.06366545, 0.45025723, 0.31678732,\n",
       "        0.17536767, 0.11579239, 0.50147834, 0.18617782, 0.73138256],\n",
       "       [0.21445184, 0.7493904 , 0.40904634, 0.71677448, 0.49515288,\n",
       "        0.31418434, 0.16601472, 0.81249495, 0.39018592, 0.66179555],\n",
       "       [0.29121441, 0.73645476, 0.2602701 , 0.92606614, 0.74378545,\n",
       "        0.60692277, 0.36169058, 0.83646651, 0.55225069, 0.89607197],\n",
       "       [0.24677551, 0.80599464, 0.37624844, 0.84278376, 0.60782486,\n",
       "        0.41174767, 0.23218137, 0.90343402, 0.45729482, 0.85612845],\n",
       "       [0.13297711, 0.45049651, 0.30216674, 0.39275592, 0.2679944 ,\n",
       "        0.17861601, 0.08495055, 0.45090203, 0.23623273, 0.23934625],\n",
       "       [0.59281227, 1.74945962, 0.93880875, 1.8135271 , 1.35222222,\n",
       "        1.01668328, 0.55766143, 1.84935094, 1.0884754 , 1.43240407]])"
      ]
     },
     "execution_count": 110,
     "metadata": {},
     "output_type": "execute_result"
    }
   ],
   "source": [
    "W = rng.uniform(size=(matrix_shape[0], matrix_shape[2]))\n",
    "H = rng.uniform(size=(matrix_shape[2], matrix_shape[1]))\n",
    "X = W @ H\n",
    "\n",
    "assert np.linalg.matrix_rank(X) == matrix_shape[2]\n",
    "\n",
    "X"
   ]
  },
  {
   "cell_type": "code",
   "execution_count": 113,
   "id": "f854bb1e",
   "metadata": {},
   "outputs": [
    {
     "data": {
      "text/plain": [
       "array([[5592.07160745, 3039.50098063,  308.17834568],\n",
       "       [4367.17389232, 2145.8467282 , 4085.28643725],\n",
       "       [8534.03073268, 2339.39485865,  583.02741689],\n",
       "       [2813.83892022, 2935.93757767, 6619.16514727],\n",
       "       [5570.32152341, 7838.98209106, 6643.13540327],\n",
       "       [4063.8686144 , 8140.20384666, 1669.72919908],\n",
       "       [ 227.12073134,  900.47860776, 7223.59350596],\n",
       "       [4618.77230251, 1612.71779034, 5010.44775103],\n",
       "       [1523.12102713, 6963.20375078, 4461.56275574],\n",
       "       [3810.21226096, 3015.12089148, 6302.82593119],\n",
       "       [3618.12610553,  876.49919316, 1180.05902121],\n",
       "       [9618.9766455 , 9085.80690708, 6997.07133811]])"
      ]
     },
     "execution_count": 113,
     "metadata": {},
     "output_type": "execute_result"
    }
   ],
   "source": [
    "W * 1e4"
   ]
  },
  {
   "cell_type": "code",
   "execution_count": 114,
   "id": "a558ab87",
   "metadata": {},
   "outputs": [
    {
     "data": {
      "text/plain": [
       "array([[2658.6996146 , 9691.76377348, 7787.50903966, 7168.90189159,\n",
       "        4493.61502144, 2722.41561845,  963.90962153, 9026.02396544,\n",
       "        4557.76289834, 2023.63364795],\n",
       "       [3059.56624151, 5792.19568942, 1767.72782939, 8566.14284092,\n",
       "        7585.19529835, 7194.62955951, 4320.93039775, 6273.08840702,\n",
       "        5840.97968913, 6498.46601555],\n",
       "       [ 844.4432114 , 4158.07402171,  416.14173862, 4939.90819245,\n",
       "        3298.61212333, 1445.24188866, 1034.02967723, 5876.44572178,\n",
       "        1705.92968537, 9251.20118377]])"
      ]
     },
     "execution_count": 114,
     "metadata": {},
     "output_type": "execute_result"
    }
   ],
   "source": [
    "H * 1e4"
   ]
  },
  {
   "cell_type": "code",
   "execution_count": 115,
   "id": "b6d7bc21",
   "metadata": {},
   "outputs": [
    {
     "data": {
      "text/plain": [
       "1.9887575322546194"
      ]
     },
     "execution_count": 115,
     "metadata": {},
     "output_type": "execute_result"
    }
   ],
   "source": [
    "np.random.normal(loc=0.0, scale=1.0, size=None)"
   ]
  },
  {
   "cell_type": "code",
   "execution_count": 118,
   "id": "26e29391",
   "metadata": {},
   "outputs": [
    {
     "data": {
      "text/plain": [
       "array([ 9998093.58166751, 10000972.86996854, 10000212.93663829,\n",
       "       10001967.2250023 , 10001809.25294179, 10000841.21079496,\n",
       "       10001305.84873391,  9999864.46167278, 10001087.41600888,\n",
       "       10001913.42551018])"
      ]
     },
     "execution_count": 118,
     "metadata": {},
     "output_type": "execute_result"
    }
   ],
   "source": [
    "np.random.normal(loc=1e7, scale=1e3, size=10)"
   ]
  },
  {
   "cell_type": "code",
   "execution_count": null,
   "id": "448e0b53",
   "metadata": {},
   "outputs": [],
   "source": []
  }
 ],
 "metadata": {
  "kernelspec": {
   "display_name": "ms_imputer",
   "language": "python",
   "name": "ms_imputer"
  },
  "language_info": {
   "codemirror_mode": {
    "name": "ipython",
    "version": 3
   },
   "file_extension": ".py",
   "mimetype": "text/x-python",
   "name": "python",
   "nbconvert_exporter": "python",
   "pygments_lexer": "ipython3",
   "version": "3.7.13"
  }
 },
 "nbformat": 4,
 "nbformat_minor": 5
}
